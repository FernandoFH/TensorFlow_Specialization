{
  "nbformat": 4,
  "nbformat_minor": 0,
  "metadata": {
    "colab": {
      "provenance": [],
      "toc_visible": true,
      "authorship_tag": "ABX9TyMh4vLpMcesuf+IKpH3K0eY",
      "include_colab_link": true
    },
    "kernelspec": {
      "name": "python3",
      "display_name": "Python 3"
    },
    "language_info": {
      "name": "python"
    }
  },
  "cells": [
    {
      "cell_type": "markdown",
      "metadata": {
        "id": "view-in-github",
        "colab_type": "text"
      },
      "source": [
        "<a href=\"https://colab.research.google.com/github/FernandoFH/TensorFlow_Specialization/blob/main/Basics/Tensorflow_Basics_Notes.ipynb\" target=\"_parent\"><img src=\"https://colab.research.google.com/assets/colab-badge.svg\" alt=\"Open In Colab\"/></a>"
      ]
    },
    {
      "cell_type": "code",
      "execution_count": null,
      "metadata": {
        "colab": {
          "base_uri": "https://localhost:8080/"
        },
        "id": "CygBRrpvH9lI",
        "outputId": "1ccced9b-86e1-49cb-ef70-3280dfa2d547"
      },
      "outputs": [
        {
          "output_type": "stream",
          "name": "stdout",
          "text": [
            "2.15.0\n"
          ]
        }
      ],
      "source": [
        "import tensorflow as tf\n",
        "print(tf.__version__)"
      ]
    },
    {
      "cell_type": "code",
      "source": [
        "scalar = tf.constant(7)\n",
        "print(scalar)\n",
        "print(scalar.ndim)"
      ],
      "metadata": {
        "colab": {
          "base_uri": "https://localhost:8080/"
        },
        "id": "CCvCFlsMImmy",
        "outputId": "fca0b02b-8fba-4588-8d8a-2fd47d2463df"
      },
      "execution_count": null,
      "outputs": [
        {
          "output_type": "stream",
          "name": "stdout",
          "text": [
            "tf.Tensor(7, shape=(), dtype=int32)\n",
            "0\n"
          ]
        }
      ]
    },
    {
      "cell_type": "code",
      "source": [
        "vector = tf.constant([10,10])\n",
        "print(vector)\n",
        "print(vector.ndim)"
      ],
      "metadata": {
        "colab": {
          "base_uri": "https://localhost:8080/"
        },
        "id": "bKT2CYbbIvW0",
        "outputId": "7aa918a4-5209-443f-d679-4c3bc09c4f3f"
      },
      "execution_count": null,
      "outputs": [
        {
          "output_type": "stream",
          "name": "stdout",
          "text": [
            "tf.Tensor([10 10], shape=(2,), dtype=int32)\n",
            "1\n"
          ]
        }
      ]
    },
    {
      "cell_type": "code",
      "source": [
        "matrix = tf.constant([\n",
        "    [10,11],\n",
        "    [12, 13]\n",
        "    ])\n",
        "\n",
        "print(matrix)\n",
        "print(matrix.ndim)"
      ],
      "metadata": {
        "colab": {
          "base_uri": "https://localhost:8080/"
        },
        "id": "W6Lsp0F5JEVB",
        "outputId": "c974bfb4-abb9-4100-ecd8-b7a679067d0d"
      },
      "execution_count": null,
      "outputs": [
        {
          "output_type": "stream",
          "name": "stdout",
          "text": [
            "tf.Tensor(\n",
            "[[10 11]\n",
            " [12 13]], shape=(2, 2), dtype=int32)\n",
            "2\n"
          ]
        }
      ]
    },
    {
      "cell_type": "code",
      "source": [
        "tensor = tf.constant([\n",
        "    [[1,2,3]],\n",
        "    [[4,5,6]],\n",
        "    [[7,8,9]]\n",
        "])\n",
        "print(tensor)\n",
        "print(tensor.ndim)"
      ],
      "metadata": {
        "colab": {
          "base_uri": "https://localhost:8080/"
        },
        "id": "dVSMnsJAJhvv",
        "outputId": "643a9cf8-5f99-4fc6-c213-00208620fec2"
      },
      "execution_count": null,
      "outputs": [
        {
          "output_type": "stream",
          "name": "stdout",
          "text": [
            "tf.Tensor(\n",
            "[[[1 2 3]]\n",
            "\n",
            " [[4 5 6]]\n",
            "\n",
            " [[7 8 9]]], shape=(3, 1, 3), dtype=int32)\n",
            "3\n"
          ]
        }
      ]
    },
    {
      "cell_type": "code",
      "source": [
        "tensor_1 = tf.constant([\n",
        "    [[1,2,3]],\n",
        "    [[4,5,6]],\n",
        "    [[7,8,9]]\n",
        "], dtype='float32')\n",
        "print(tensor_1)"
      ],
      "metadata": {
        "colab": {
          "base_uri": "https://localhost:8080/"
        },
        "id": "NWK8lkEcKFr2",
        "outputId": "f054ff21-284b-4079-a212-3eedbd828002"
      },
      "execution_count": null,
      "outputs": [
        {
          "output_type": "stream",
          "name": "stdout",
          "text": [
            "tf.Tensor(\n",
            "[[[1. 2. 3.]]\n",
            "\n",
            " [[4. 5. 6.]]\n",
            "\n",
            " [[7. 8. 9.]]], shape=(3, 1, 3), dtype=float32)\n"
          ]
        }
      ]
    },
    {
      "cell_type": "code",
      "source": [
        "var_tensor = tf.Variable([\n",
        "    [[1,2,3]],\n",
        "    [[4,5,6]],\n",
        "    [[7,8,9]]\n",
        "])\n",
        "print(var_tensor)"
      ],
      "metadata": {
        "colab": {
          "base_uri": "https://localhost:8080/"
        },
        "id": "hNb65BoSKiYk",
        "outputId": "d64c78f4-7804-4c0d-e021-7638798b9cb8"
      },
      "execution_count": null,
      "outputs": [
        {
          "output_type": "stream",
          "name": "stdout",
          "text": [
            "<tf.Variable 'Variable:0' shape=(3, 1, 3) dtype=int32, numpy=\n",
            "array([[[1, 2, 3]],\n",
            "\n",
            "       [[4, 5, 6]],\n",
            "\n",
            "       [[7, 8, 9]]], dtype=int32)>\n"
          ]
        }
      ]
    },
    {
      "cell_type": "code",
      "source": [
        "seed = tf.random.Generator.from_seed(42)\n",
        "normal_tenser = seed.normal(shape=(3,2))\n",
        "print(normal_tenser)\n",
        "\n",
        "uniform_tensor = seed.uniform(shape=(3,2))\n",
        "print(uniform_tensor)"
      ],
      "metadata": {
        "colab": {
          "base_uri": "https://localhost:8080/"
        },
        "id": "8xHMAHD-MXFh",
        "outputId": "ed275fff-1f56-48eb-de80-3a9110080b5d"
      },
      "execution_count": null,
      "outputs": [
        {
          "output_type": "stream",
          "name": "stdout",
          "text": [
            "tf.Tensor(\n",
            "[[-0.7565803  -0.06854702]\n",
            " [ 0.07595026 -1.2573844 ]\n",
            " [-0.23193763 -1.8107855 ]], shape=(3, 2), dtype=float32)\n",
            "tf.Tensor(\n",
            "[[0.7647915  0.03845465]\n",
            " [0.8506975  0.20781887]\n",
            " [0.711869   0.8843919 ]], shape=(3, 2), dtype=float32)\n"
          ]
        }
      ]
    },
    {
      "cell_type": "code",
      "source": [
        "zeros = tf.zeros(shape=(3,2))\n",
        "print(zeros)\n",
        "\n",
        "ones = tf.ones(shape=(3,2))\n",
        "print(ones)"
      ],
      "metadata": {
        "colab": {
          "base_uri": "https://localhost:8080/"
        },
        "id": "uYtAx77-NXcw",
        "outputId": "a63c389c-12a2-48cb-a1a2-212c6aaf1bf5"
      },
      "execution_count": null,
      "outputs": [
        {
          "output_type": "stream",
          "name": "stdout",
          "text": [
            "tf.Tensor(\n",
            "[[0. 0.]\n",
            " [0. 0.]\n",
            " [0. 0.]], shape=(3, 2), dtype=float32)\n",
            "tf.Tensor(\n",
            "[[1. 1.]\n",
            " [1. 1.]\n",
            " [1. 1.]], shape=(3, 2), dtype=float32)\n"
          ]
        }
      ]
    },
    {
      "cell_type": "code",
      "source": [
        "import numpy as np\n",
        "numpy_arr  = np.arange(1,25,dtype=np.int32)\n",
        "print(numpy_arr)\n",
        "numpy_tensor = tf.constant(numpy_arr, shape=[2,4,3])\n",
        "print(numpy_tensor)"
      ],
      "metadata": {
        "colab": {
          "base_uri": "https://localhost:8080/"
        },
        "id": "56yb94yiNsDg",
        "outputId": "243561a4-22ef-497a-a58d-419342acec3c"
      },
      "execution_count": null,
      "outputs": [
        {
          "output_type": "stream",
          "name": "stdout",
          "text": [
            "[ 1  2  3  4  5  6  7  8  9 10 11 12 13 14 15 16 17 18 19 20 21 22 23 24]\n",
            "tf.Tensor(\n",
            "[[[ 1  2  3]\n",
            "  [ 4  5  6]\n",
            "  [ 7  8  9]\n",
            "  [10 11 12]]\n",
            "\n",
            " [[13 14 15]\n",
            "  [16 17 18]\n",
            "  [19 20 21]\n",
            "  [22 23 24]]], shape=(2, 4, 3), dtype=int32)\n"
          ]
        }
      ]
    },
    {
      "cell_type": "code",
      "source": [
        "rank4_tensor = tf.zeros([2,3,4,5])\n",
        "print(rank4_tensor)\n",
        "print(\"Size:\", tf.size(rank4_tensor))\n",
        "print(\"Shape\", rank4_tensor.shape)\n",
        "print(\"Dimension\",rank4_tensor.ndim)"
      ],
      "metadata": {
        "colab": {
          "base_uri": "https://localhost:8080/"
        },
        "id": "1pn5sftMO83E",
        "outputId": "869c5693-e14a-42cb-f370-412647b84e1f"
      },
      "execution_count": null,
      "outputs": [
        {
          "output_type": "stream",
          "name": "stdout",
          "text": [
            "tf.Tensor(\n",
            "[[[[0. 0. 0. 0. 0.]\n",
            "   [0. 0. 0. 0. 0.]\n",
            "   [0. 0. 0. 0. 0.]\n",
            "   [0. 0. 0. 0. 0.]]\n",
            "\n",
            "  [[0. 0. 0. 0. 0.]\n",
            "   [0. 0. 0. 0. 0.]\n",
            "   [0. 0. 0. 0. 0.]\n",
            "   [0. 0. 0. 0. 0.]]\n",
            "\n",
            "  [[0. 0. 0. 0. 0.]\n",
            "   [0. 0. 0. 0. 0.]\n",
            "   [0. 0. 0. 0. 0.]\n",
            "   [0. 0. 0. 0. 0.]]]\n",
            "\n",
            "\n",
            " [[[0. 0. 0. 0. 0.]\n",
            "   [0. 0. 0. 0. 0.]\n",
            "   [0. 0. 0. 0. 0.]\n",
            "   [0. 0. 0. 0. 0.]]\n",
            "\n",
            "  [[0. 0. 0. 0. 0.]\n",
            "   [0. 0. 0. 0. 0.]\n",
            "   [0. 0. 0. 0. 0.]\n",
            "   [0. 0. 0. 0. 0.]]\n",
            "\n",
            "  [[0. 0. 0. 0. 0.]\n",
            "   [0. 0. 0. 0. 0.]\n",
            "   [0. 0. 0. 0. 0.]\n",
            "   [0. 0. 0. 0. 0.]]]], shape=(2, 3, 4, 5), dtype=float32)\n",
            "Size: tf.Tensor(120, shape=(), dtype=int32)\n",
            "Shape (2, 3, 4, 5)\n",
            "Dimension 4\n"
          ]
        }
      ]
    },
    {
      "cell_type": "code",
      "source": [
        "basic_tensor = tf.constant([[10,11],[12,13]])\n",
        "print(basic_tensor + 10)\n",
        "print(basic_tensor - 10)\n",
        "print(basic_tensor * 10)\n",
        "print(basic_tensor / 10)"
      ],
      "metadata": {
        "colab": {
          "base_uri": "https://localhost:8080/"
        },
        "id": "RZmqwKslP72Z",
        "outputId": "92d48d6f-38d1-458a-890f-ac88c2ceeac4"
      },
      "execution_count": null,
      "outputs": [
        {
          "output_type": "stream",
          "name": "stdout",
          "text": [
            "tf.Tensor(\n",
            "[[20 21]\n",
            " [22 23]], shape=(2, 2), dtype=int32)\n",
            "tf.Tensor(\n",
            "[[0 1]\n",
            " [2 3]], shape=(2, 2), dtype=int32)\n",
            "tf.Tensor(\n",
            "[[100 110]\n",
            " [120 130]], shape=(2, 2), dtype=int32)\n",
            "tf.Tensor(\n",
            "[[1.  1.1]\n",
            " [1.2 1.3]], shape=(2, 2), dtype=float64)\n"
          ]
        }
      ]
    },
    {
      "cell_type": "code",
      "source": [
        "tensor_011 = tf.constant([[2,2], [4,4]])\n",
        "tensor_012 = tf.constant([[2,3], [4,5]])\n",
        "\n",
        "print(tf.matmul(tensor_011, tensor_012))"
      ],
      "metadata": {
        "colab": {
          "base_uri": "https://localhost:8080/"
        },
        "id": "SNeRJ8e-Sriz",
        "outputId": "264abc1d-39e1-4c66-b5f6-294fdc1053f4"
      },
      "execution_count": null,
      "outputs": [
        {
          "output_type": "stream",
          "name": "stdout",
          "text": [
            "tf.Tensor(\n",
            "[[12 16]\n",
            " [24 32]], shape=(2, 2), dtype=int32)\n"
          ]
        }
      ]
    },
    {
      "cell_type": "code",
      "source": [
        "print(tf.reshape(tensor_011,[4,1]))\n",
        "print(tf.transpose(tensor_011))"
      ],
      "metadata": {
        "colab": {
          "base_uri": "https://localhost:8080/"
        },
        "id": "JO3obmPtTT-V",
        "outputId": "270c87d5-e494-412b-d90e-3662903260b4"
      },
      "execution_count": null,
      "outputs": [
        {
          "output_type": "stream",
          "name": "stdout",
          "text": [
            "tf.Tensor(\n",
            "[[2]\n",
            " [2]\n",
            " [4]\n",
            " [4]], shape=(4, 1), dtype=int32)\n",
            "tf.Tensor(\n",
            "[[2 4]\n",
            " [2 4]], shape=(2, 2), dtype=int32)\n"
          ]
        }
      ]
    },
    {
      "cell_type": "code",
      "source": [
        "tensor_013 = tf.constant([\n",
        "    [1,2,3],\n",
        "    [4,5,6],\n",
        "    [7,8,9]\n",
        "    ], dtype='float32')\n",
        "print(tf.reduce_min(tensor_013))\n",
        "print(tf.reduce_max(tensor_013))\n",
        "print(tf.reduce_sum(tensor_013))"
      ],
      "metadata": {
        "colab": {
          "base_uri": "https://localhost:8080/"
        },
        "id": "DWAY-8nxUSoB",
        "outputId": "fa9ce967-ca4a-4204-8290-d72fa6eb6c68"
      },
      "execution_count": null,
      "outputs": [
        {
          "output_type": "stream",
          "name": "stdout",
          "text": [
            "tf.Tensor(1.0, shape=(), dtype=float32)\n",
            "tf.Tensor(9.0, shape=(), dtype=float32)\n",
            "tf.Tensor(45.0, shape=(), dtype=float32)\n"
          ]
        }
      ]
    },
    {
      "cell_type": "code",
      "source": [
        "print(tf.math.reduce_std(tensor_013))\n",
        "print(tf.math.reduce_variance(tensor_013))"
      ],
      "metadata": {
        "colab": {
          "base_uri": "https://localhost:8080/"
        },
        "id": "5mNi0Y7mVEzf",
        "outputId": "a19bdc36-f6a7-4668-f480-89001be2f21d"
      },
      "execution_count": null,
      "outputs": [
        {
          "output_type": "stream",
          "name": "stdout",
          "text": [
            "tf.Tensor(2.5819888, shape=(), dtype=float32)\n",
            "tf.Tensor(6.6666665, shape=(), dtype=float32)\n"
          ]
        }
      ]
    },
    {
      "cell_type": "code",
      "source": [
        "print(tf.sqrt(tensor_013))\n",
        "print(tf.square(tensor_013))\n",
        "print(tf.math.log(tensor_013))"
      ],
      "metadata": {
        "colab": {
          "base_uri": "https://localhost:8080/"
        },
        "id": "Ehs186PpVY6B",
        "outputId": "dbce72ac-121c-45e8-cb21-a277a94b6155"
      },
      "execution_count": null,
      "outputs": [
        {
          "output_type": "stream",
          "name": "stdout",
          "text": [
            "tf.Tensor(\n",
            "[[1.        1.4142135 1.7320508]\n",
            " [2.        2.236068  2.4494898]\n",
            " [2.6457512 2.828427  3.       ]], shape=(3, 3), dtype=float32)\n",
            "tf.Tensor(\n",
            "[[ 1.  4.  9.]\n",
            " [16. 25. 36.]\n",
            " [49. 64. 81.]], shape=(3, 3), dtype=float32)\n",
            "tf.Tensor(\n",
            "[[0.        0.6931472 1.0986123]\n",
            " [1.3862944 1.609438  1.7917595]\n",
            " [1.9459102 2.0794415 2.1972246]], shape=(3, 3), dtype=float32)\n"
          ]
        }
      ]
    }
  ]
}